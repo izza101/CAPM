{
 "cells": [
  {
   "cell_type": "markdown",
   "metadata": {},
   "source": [
    "### Task 1 : Import Library"
   ]
  },
  {
   "cell_type": "code",
   "execution_count": 1,
   "metadata": {},
   "outputs": [],
   "source": [
    "import pandas as pd\n",
    "import numpy as np\n",
    "import matplotlib.pyplot as plt\n",
    "plt.style.use(\"seaborn\")\n",
    "from pandas_datareader import data as wb"
   ]
  },
  {
   "cell_type": "markdown",
   "metadata": {},
   "source": [
    "### Task 2 : Import Data Single Stock"
   ]
  },
  {
   "cell_type": "code",
   "execution_count": 2,
   "metadata": {},
   "outputs": [],
   "source": [
    "data = wb.DataReader([\"ICBP.JK\", \"UNVR.JK\",\"MYOR.JK\", \"^JKSE\"], \"yahoo\", start = \"2014-01-01\")[\"Adj Close\"]"
   ]
  },
  {
   "cell_type": "code",
   "execution_count": 3,
   "metadata": {},
   "outputs": [
    {
     "data": {
      "text/html": [
       "<div>\n",
       "<style scoped>\n",
       "    .dataframe tbody tr th:only-of-type {\n",
       "        vertical-align: middle;\n",
       "    }\n",
       "\n",
       "    .dataframe tbody tr th {\n",
       "        vertical-align: top;\n",
       "    }\n",
       "\n",
       "    .dataframe thead th {\n",
       "        text-align: right;\n",
       "    }\n",
       "</style>\n",
       "<table border=\"1\" class=\"dataframe\">\n",
       "  <thead>\n",
       "    <tr style=\"text-align: right;\">\n",
       "      <th>Symbols</th>\n",
       "      <th>ICBP.JK</th>\n",
       "      <th>UNVR.JK</th>\n",
       "      <th>MYOR.JK</th>\n",
       "      <th>^JKSE</th>\n",
       "    </tr>\n",
       "    <tr>\n",
       "      <th>Date</th>\n",
       "      <th></th>\n",
       "      <th></th>\n",
       "      <th></th>\n",
       "      <th></th>\n",
       "    </tr>\n",
       "  </thead>\n",
       "  <tbody>\n",
       "    <tr>\n",
       "      <th>2014-01-02</th>\n",
       "      <td>4267.802734</td>\n",
       "      <td>3613.252686</td>\n",
       "      <td>544.205444</td>\n",
       "      <td>4327.136719</td>\n",
       "    </tr>\n",
       "    <tr>\n",
       "      <th>2014-01-03</th>\n",
       "      <td>4165.701660</td>\n",
       "      <td>3572.806641</td>\n",
       "      <td>544.205444</td>\n",
       "      <td>4257.536621</td>\n",
       "    </tr>\n",
       "    <tr>\n",
       "      <th>2014-01-06</th>\n",
       "      <td>4135.071777</td>\n",
       "      <td>3606.511719</td>\n",
       "      <td>533.739929</td>\n",
       "      <td>4202.684082</td>\n",
       "    </tr>\n",
       "    <tr>\n",
       "      <th>2014-01-07</th>\n",
       "      <td>4124.861328</td>\n",
       "      <td>3532.359375</td>\n",
       "      <td>523.274475</td>\n",
       "      <td>4175.682129</td>\n",
       "    </tr>\n",
       "    <tr>\n",
       "      <th>2014-01-08</th>\n",
       "      <td>4114.651855</td>\n",
       "      <td>3532.359375</td>\n",
       "      <td>523.274475</td>\n",
       "      <td>4200.467773</td>\n",
       "    </tr>\n",
       "  </tbody>\n",
       "</table>\n",
       "</div>"
      ],
      "text/plain": [
       "Symbols         ICBP.JK      UNVR.JK     MYOR.JK        ^JKSE\n",
       "Date                                                         \n",
       "2014-01-02  4267.802734  3613.252686  544.205444  4327.136719\n",
       "2014-01-03  4165.701660  3572.806641  544.205444  4257.536621\n",
       "2014-01-06  4135.071777  3606.511719  533.739929  4202.684082\n",
       "2014-01-07  4124.861328  3532.359375  523.274475  4175.682129\n",
       "2014-01-08  4114.651855  3532.359375  523.274475  4200.467773"
      ]
     },
     "execution_count": 3,
     "metadata": {},
     "output_type": "execute_result"
    }
   ],
   "source": [
    "data.head()"
   ]
  },
  {
   "cell_type": "code",
   "execution_count": 4,
   "metadata": {},
   "outputs": [
    {
     "data": {
      "text/html": [
       "<div>\n",
       "<style scoped>\n",
       "    .dataframe tbody tr th:only-of-type {\n",
       "        vertical-align: middle;\n",
       "    }\n",
       "\n",
       "    .dataframe tbody tr th {\n",
       "        vertical-align: top;\n",
       "    }\n",
       "\n",
       "    .dataframe thead th {\n",
       "        text-align: right;\n",
       "    }\n",
       "</style>\n",
       "<table border=\"1\" class=\"dataframe\">\n",
       "  <thead>\n",
       "    <tr style=\"text-align: right;\">\n",
       "      <th>Symbols</th>\n",
       "      <th>ICBP.JK</th>\n",
       "      <th>UNVR.JK</th>\n",
       "      <th>MYOR.JK</th>\n",
       "      <th>^JKSE</th>\n",
       "    </tr>\n",
       "    <tr>\n",
       "      <th>Date</th>\n",
       "      <th></th>\n",
       "      <th></th>\n",
       "      <th></th>\n",
       "      <th></th>\n",
       "    </tr>\n",
       "  </thead>\n",
       "  <tbody>\n",
       "    <tr>\n",
       "      <th>2020-07-29</th>\n",
       "      <td>9125.0</td>\n",
       "      <td>8142.674805</td>\n",
       "      <td>2350.0</td>\n",
       "      <td>5111.112793</td>\n",
       "    </tr>\n",
       "    <tr>\n",
       "      <th>2020-07-30</th>\n",
       "      <td>9200.0</td>\n",
       "      <td>8290.723633</td>\n",
       "      <td>2350.0</td>\n",
       "      <td>5149.626953</td>\n",
       "    </tr>\n",
       "    <tr>\n",
       "      <th>2020-08-03</th>\n",
       "      <td>9300.0</td>\n",
       "      <td>8142.674805</td>\n",
       "      <td>2290.0</td>\n",
       "      <td>5006.223145</td>\n",
       "    </tr>\n",
       "    <tr>\n",
       "      <th>2020-08-04</th>\n",
       "      <td>10025.0</td>\n",
       "      <td>8118.000000</td>\n",
       "      <td>2300.0</td>\n",
       "      <td>5075.001953</td>\n",
       "    </tr>\n",
       "    <tr>\n",
       "      <th>2020-08-05</th>\n",
       "      <td>10550.0</td>\n",
       "      <td>8250.000000</td>\n",
       "      <td>2280.0</td>\n",
       "      <td>5127.050781</td>\n",
       "    </tr>\n",
       "  </tbody>\n",
       "</table>\n",
       "</div>"
      ],
      "text/plain": [
       "Symbols     ICBP.JK      UNVR.JK  MYOR.JK        ^JKSE\n",
       "Date                                                  \n",
       "2020-07-29   9125.0  8142.674805   2350.0  5111.112793\n",
       "2020-07-30   9200.0  8290.723633   2350.0  5149.626953\n",
       "2020-08-03   9300.0  8142.674805   2290.0  5006.223145\n",
       "2020-08-04  10025.0  8118.000000   2300.0  5075.001953\n",
       "2020-08-05  10550.0  8250.000000   2280.0  5127.050781"
      ]
     },
     "execution_count": 4,
     "metadata": {},
     "output_type": "execute_result"
    }
   ],
   "source": [
    "data.tail()"
   ]
  },
  {
   "cell_type": "code",
   "execution_count": 5,
   "metadata": {},
   "outputs": [],
   "source": [
    "data.index = pd.to_datetime(data.index)"
   ]
  },
  {
   "cell_type": "code",
   "execution_count": 6,
   "metadata": {},
   "outputs": [
    {
     "name": "stdout",
     "output_type": "stream",
     "text": [
      "<class 'pandas.core.frame.DataFrame'>\n",
      "DatetimeIndex: 1654 entries, 2014-01-02 to 2020-08-05\n",
      "Data columns (total 4 columns):\n",
      " #   Column   Non-Null Count  Dtype  \n",
      "---  ------   --------------  -----  \n",
      " 0   ICBP.JK  1654 non-null   float64\n",
      " 1   UNVR.JK  1654 non-null   float64\n",
      " 2   MYOR.JK  1654 non-null   float64\n",
      " 3   ^JKSE    1603 non-null   float64\n",
      "dtypes: float64(4)\n",
      "memory usage: 64.6 KB\n"
     ]
    }
   ],
   "source": [
    "data.info()"
   ]
  },
  {
   "cell_type": "markdown",
   "metadata": {},
   "source": [
    "##### Rumus CAPM"
   ]
  },
  {
   "cell_type": "markdown",
   "metadata": {},
   "source": [
    "$$E(Ri) = Rf + \\beta i [E(Rm) - Rf]$$"
   ]
  },
  {
   "cell_type": "markdown",
   "metadata": {},
   "source": [
    "$E(Ri) = $ Expected Return Sekuritas i\n",
    "\n",
    "$Rf = $ Tingkat Return Investasi Free Risk\n",
    "\n",
    "$\\beta i = $ beta, ukuran risiko sekuritas i\n",
    "\n",
    "$E(Rm) = $ Expected Return Market (Pasar)\n",
    "\n",
    "$(E(Rm) - Rf) = $ Risiko Pasar"
   ]
  },
  {
   "cell_type": "markdown",
   "metadata": {},
   "source": [
    "### Task 3 : Expected Return $Ri$ dan $E(Rm)$\n"
   ]
  },
  {
   "cell_type": "code",
   "execution_count": 7,
   "metadata": {},
   "outputs": [],
   "source": [
    "data = pd.DataFrame(data).copy()"
   ]
  },
  {
   "cell_type": "code",
   "execution_count": 8,
   "metadata": {},
   "outputs": [
    {
     "data": {
      "text/html": [
       "<div>\n",
       "<style scoped>\n",
       "    .dataframe tbody tr th:only-of-type {\n",
       "        vertical-align: middle;\n",
       "    }\n",
       "\n",
       "    .dataframe tbody tr th {\n",
       "        vertical-align: top;\n",
       "    }\n",
       "\n",
       "    .dataframe thead th {\n",
       "        text-align: right;\n",
       "    }\n",
       "</style>\n",
       "<table border=\"1\" class=\"dataframe\">\n",
       "  <thead>\n",
       "    <tr style=\"text-align: right;\">\n",
       "      <th>Symbols</th>\n",
       "      <th>ICBP.JK</th>\n",
       "      <th>UNVR.JK</th>\n",
       "      <th>MYOR.JK</th>\n",
       "      <th>^JKSE</th>\n",
       "    </tr>\n",
       "    <tr>\n",
       "      <th>Date</th>\n",
       "      <th></th>\n",
       "      <th></th>\n",
       "      <th></th>\n",
       "      <th></th>\n",
       "    </tr>\n",
       "  </thead>\n",
       "  <tbody>\n",
       "    <tr>\n",
       "      <th>2014-01-02</th>\n",
       "      <td>4267.802734</td>\n",
       "      <td>3613.252686</td>\n",
       "      <td>544.205444</td>\n",
       "      <td>4327.136719</td>\n",
       "    </tr>\n",
       "    <tr>\n",
       "      <th>2014-01-03</th>\n",
       "      <td>4165.701660</td>\n",
       "      <td>3572.806641</td>\n",
       "      <td>544.205444</td>\n",
       "      <td>4257.536621</td>\n",
       "    </tr>\n",
       "    <tr>\n",
       "      <th>2014-01-06</th>\n",
       "      <td>4135.071777</td>\n",
       "      <td>3606.511719</td>\n",
       "      <td>533.739929</td>\n",
       "      <td>4202.684082</td>\n",
       "    </tr>\n",
       "    <tr>\n",
       "      <th>2014-01-07</th>\n",
       "      <td>4124.861328</td>\n",
       "      <td>3532.359375</td>\n",
       "      <td>523.274475</td>\n",
       "      <td>4175.682129</td>\n",
       "    </tr>\n",
       "    <tr>\n",
       "      <th>2014-01-08</th>\n",
       "      <td>4114.651855</td>\n",
       "      <td>3532.359375</td>\n",
       "      <td>523.274475</td>\n",
       "      <td>4200.467773</td>\n",
       "    </tr>\n",
       "    <tr>\n",
       "      <th>2014-01-09</th>\n",
       "      <td>4073.812256</td>\n",
       "      <td>3515.506836</td>\n",
       "      <td>518.041748</td>\n",
       "      <td>4201.092773</td>\n",
       "    </tr>\n",
       "    <tr>\n",
       "      <th>2014-01-10</th>\n",
       "      <td>4084.022217</td>\n",
       "      <td>3491.912354</td>\n",
       "      <td>521.181335</td>\n",
       "      <td>4254.845215</td>\n",
       "    </tr>\n",
       "    <tr>\n",
       "      <th>2014-01-13</th>\n",
       "      <td>4145.281738</td>\n",
       "      <td>3643.588379</td>\n",
       "      <td>526.414124</td>\n",
       "      <td>4390.640625</td>\n",
       "    </tr>\n",
       "    <tr>\n",
       "      <th>2014-01-15</th>\n",
       "      <td>4390.323242</td>\n",
       "      <td>3778.411377</td>\n",
       "      <td>522.227905</td>\n",
       "      <td>4441.462402</td>\n",
       "    </tr>\n",
       "    <tr>\n",
       "      <th>2014-01-16</th>\n",
       "      <td>4431.163086</td>\n",
       "      <td>3748.076416</td>\n",
       "      <td>523.274475</td>\n",
       "      <td>4412.357910</td>\n",
       "    </tr>\n",
       "  </tbody>\n",
       "</table>\n",
       "</div>"
      ],
      "text/plain": [
       "Symbols         ICBP.JK      UNVR.JK     MYOR.JK        ^JKSE\n",
       "Date                                                         \n",
       "2014-01-02  4267.802734  3613.252686  544.205444  4327.136719\n",
       "2014-01-03  4165.701660  3572.806641  544.205444  4257.536621\n",
       "2014-01-06  4135.071777  3606.511719  533.739929  4202.684082\n",
       "2014-01-07  4124.861328  3532.359375  523.274475  4175.682129\n",
       "2014-01-08  4114.651855  3532.359375  523.274475  4200.467773\n",
       "2014-01-09  4073.812256  3515.506836  518.041748  4201.092773\n",
       "2014-01-10  4084.022217  3491.912354  521.181335  4254.845215\n",
       "2014-01-13  4145.281738  3643.588379  526.414124  4390.640625\n",
       "2014-01-15  4390.323242  3778.411377  522.227905  4441.462402\n",
       "2014-01-16  4431.163086  3748.076416  523.274475  4412.357910"
      ]
     },
     "execution_count": 8,
     "metadata": {},
     "output_type": "execute_result"
    }
   ],
   "source": [
    "data.head(10)"
   ]
  },
  {
   "cell_type": "code",
   "execution_count": 9,
   "metadata": {},
   "outputs": [
    {
     "data": {
      "text/html": [
       "<div>\n",
       "<style scoped>\n",
       "    .dataframe tbody tr th:only-of-type {\n",
       "        vertical-align: middle;\n",
       "    }\n",
       "\n",
       "    .dataframe tbody tr th {\n",
       "        vertical-align: top;\n",
       "    }\n",
       "\n",
       "    .dataframe thead th {\n",
       "        text-align: right;\n",
       "    }\n",
       "</style>\n",
       "<table border=\"1\" class=\"dataframe\">\n",
       "  <thead>\n",
       "    <tr style=\"text-align: right;\">\n",
       "      <th>Symbols</th>\n",
       "      <th>ICBP.JK</th>\n",
       "      <th>UNVR.JK</th>\n",
       "      <th>MYOR.JK</th>\n",
       "      <th>^JKSE</th>\n",
       "    </tr>\n",
       "    <tr>\n",
       "      <th>Date</th>\n",
       "      <th></th>\n",
       "      <th></th>\n",
       "      <th></th>\n",
       "      <th></th>\n",
       "    </tr>\n",
       "  </thead>\n",
       "  <tbody>\n",
       "    <tr>\n",
       "      <th>2020-07-29</th>\n",
       "      <td>9125.0</td>\n",
       "      <td>8142.674805</td>\n",
       "      <td>2350.0</td>\n",
       "      <td>5111.112793</td>\n",
       "    </tr>\n",
       "    <tr>\n",
       "      <th>2020-07-30</th>\n",
       "      <td>9200.0</td>\n",
       "      <td>8290.723633</td>\n",
       "      <td>2350.0</td>\n",
       "      <td>5149.626953</td>\n",
       "    </tr>\n",
       "    <tr>\n",
       "      <th>2020-08-03</th>\n",
       "      <td>9300.0</td>\n",
       "      <td>8142.674805</td>\n",
       "      <td>2290.0</td>\n",
       "      <td>5006.223145</td>\n",
       "    </tr>\n",
       "    <tr>\n",
       "      <th>2020-08-04</th>\n",
       "      <td>10025.0</td>\n",
       "      <td>8118.000000</td>\n",
       "      <td>2300.0</td>\n",
       "      <td>5075.001953</td>\n",
       "    </tr>\n",
       "    <tr>\n",
       "      <th>2020-08-05</th>\n",
       "      <td>10550.0</td>\n",
       "      <td>8250.000000</td>\n",
       "      <td>2280.0</td>\n",
       "      <td>5127.050781</td>\n",
       "    </tr>\n",
       "  </tbody>\n",
       "</table>\n",
       "</div>"
      ],
      "text/plain": [
       "Symbols     ICBP.JK      UNVR.JK  MYOR.JK        ^JKSE\n",
       "Date                                                  \n",
       "2020-07-29   9125.0  8142.674805   2350.0  5111.112793\n",
       "2020-07-30   9200.0  8290.723633   2350.0  5149.626953\n",
       "2020-08-03   9300.0  8142.674805   2290.0  5006.223145\n",
       "2020-08-04  10025.0  8118.000000   2300.0  5075.001953\n",
       "2020-08-05  10550.0  8250.000000   2280.0  5127.050781"
      ]
     },
     "execution_count": 9,
     "metadata": {},
     "output_type": "execute_result"
    }
   ],
   "source": [
    "data.tail()"
   ]
  },
  {
   "cell_type": "markdown",
   "metadata": {},
   "source": [
    "Daily Return"
   ]
  },
  {
   "cell_type": "code",
   "execution_count": 10,
   "metadata": {},
   "outputs": [],
   "source": [
    "Data_daily_r = data.pct_change().dropna()"
   ]
  },
  {
   "cell_type": "code",
   "execution_count": 11,
   "metadata": {},
   "outputs": [
    {
     "data": {
      "text/html": [
       "<div>\n",
       "<style scoped>\n",
       "    .dataframe tbody tr th:only-of-type {\n",
       "        vertical-align: middle;\n",
       "    }\n",
       "\n",
       "    .dataframe tbody tr th {\n",
       "        vertical-align: top;\n",
       "    }\n",
       "\n",
       "    .dataframe thead th {\n",
       "        text-align: right;\n",
       "    }\n",
       "</style>\n",
       "<table border=\"1\" class=\"dataframe\">\n",
       "  <thead>\n",
       "    <tr style=\"text-align: right;\">\n",
       "      <th>Symbols</th>\n",
       "      <th>ICBP.JK</th>\n",
       "      <th>UNVR.JK</th>\n",
       "      <th>MYOR.JK</th>\n",
       "      <th>^JKSE</th>\n",
       "    </tr>\n",
       "    <tr>\n",
       "      <th>Date</th>\n",
       "      <th></th>\n",
       "      <th></th>\n",
       "      <th></th>\n",
       "      <th></th>\n",
       "    </tr>\n",
       "  </thead>\n",
       "  <tbody>\n",
       "    <tr>\n",
       "      <th>2014-01-03</th>\n",
       "      <td>-0.023924</td>\n",
       "      <td>-0.011194</td>\n",
       "      <td>0.000000</td>\n",
       "      <td>-0.016085</td>\n",
       "    </tr>\n",
       "    <tr>\n",
       "      <th>2014-01-06</th>\n",
       "      <td>-0.007353</td>\n",
       "      <td>0.009434</td>\n",
       "      <td>-0.019231</td>\n",
       "      <td>-0.012884</td>\n",
       "    </tr>\n",
       "    <tr>\n",
       "      <th>2014-01-07</th>\n",
       "      <td>-0.002469</td>\n",
       "      <td>-0.020561</td>\n",
       "      <td>-0.019608</td>\n",
       "      <td>-0.006425</td>\n",
       "    </tr>\n",
       "    <tr>\n",
       "      <th>2014-01-08</th>\n",
       "      <td>-0.002475</td>\n",
       "      <td>0.000000</td>\n",
       "      <td>0.000000</td>\n",
       "      <td>0.005936</td>\n",
       "    </tr>\n",
       "    <tr>\n",
       "      <th>2014-01-09</th>\n",
       "      <td>-0.009925</td>\n",
       "      <td>-0.004771</td>\n",
       "      <td>-0.010000</td>\n",
       "      <td>0.000149</td>\n",
       "    </tr>\n",
       "  </tbody>\n",
       "</table>\n",
       "</div>"
      ],
      "text/plain": [
       "Symbols      ICBP.JK   UNVR.JK   MYOR.JK     ^JKSE\n",
       "Date                                              \n",
       "2014-01-03 -0.023924 -0.011194  0.000000 -0.016085\n",
       "2014-01-06 -0.007353  0.009434 -0.019231 -0.012884\n",
       "2014-01-07 -0.002469 -0.020561 -0.019608 -0.006425\n",
       "2014-01-08 -0.002475  0.000000  0.000000  0.005936\n",
       "2014-01-09 -0.009925 -0.004771 -0.010000  0.000149"
      ]
     },
     "execution_count": 11,
     "metadata": {},
     "output_type": "execute_result"
    }
   ],
   "source": [
    "Data_daily_r.head()"
   ]
  },
  {
   "cell_type": "code",
   "execution_count": 12,
   "metadata": {},
   "outputs": [
    {
     "data": {
      "text/html": [
       "<div>\n",
       "<style scoped>\n",
       "    .dataframe tbody tr th:only-of-type {\n",
       "        vertical-align: middle;\n",
       "    }\n",
       "\n",
       "    .dataframe tbody tr th {\n",
       "        vertical-align: top;\n",
       "    }\n",
       "\n",
       "    .dataframe thead th {\n",
       "        text-align: right;\n",
       "    }\n",
       "</style>\n",
       "<table border=\"1\" class=\"dataframe\">\n",
       "  <thead>\n",
       "    <tr style=\"text-align: right;\">\n",
       "      <th>Symbols</th>\n",
       "      <th>ICBP.JK</th>\n",
       "      <th>UNVR.JK</th>\n",
       "      <th>MYOR.JK</th>\n",
       "      <th>^JKSE</th>\n",
       "    </tr>\n",
       "    <tr>\n",
       "      <th>Date</th>\n",
       "      <th></th>\n",
       "      <th></th>\n",
       "      <th></th>\n",
       "      <th></th>\n",
       "    </tr>\n",
       "  </thead>\n",
       "  <tbody>\n",
       "    <tr>\n",
       "      <th>2020-07-29</th>\n",
       "      <td>0.008287</td>\n",
       "      <td>0.012270</td>\n",
       "      <td>0.035242</td>\n",
       "      <td>-0.000367</td>\n",
       "    </tr>\n",
       "    <tr>\n",
       "      <th>2020-07-30</th>\n",
       "      <td>0.008219</td>\n",
       "      <td>0.018182</td>\n",
       "      <td>0.000000</td>\n",
       "      <td>0.007535</td>\n",
       "    </tr>\n",
       "    <tr>\n",
       "      <th>2020-08-03</th>\n",
       "      <td>0.010870</td>\n",
       "      <td>-0.017857</td>\n",
       "      <td>-0.025532</td>\n",
       "      <td>-0.027847</td>\n",
       "    </tr>\n",
       "    <tr>\n",
       "      <th>2020-08-04</th>\n",
       "      <td>0.077957</td>\n",
       "      <td>-0.003030</td>\n",
       "      <td>0.004367</td>\n",
       "      <td>0.013739</td>\n",
       "    </tr>\n",
       "    <tr>\n",
       "      <th>2020-08-05</th>\n",
       "      <td>0.052369</td>\n",
       "      <td>0.016260</td>\n",
       "      <td>-0.008696</td>\n",
       "      <td>0.010256</td>\n",
       "    </tr>\n",
       "  </tbody>\n",
       "</table>\n",
       "</div>"
      ],
      "text/plain": [
       "Symbols      ICBP.JK   UNVR.JK   MYOR.JK     ^JKSE\n",
       "Date                                              \n",
       "2020-07-29  0.008287  0.012270  0.035242 -0.000367\n",
       "2020-07-30  0.008219  0.018182  0.000000  0.007535\n",
       "2020-08-03  0.010870 -0.017857 -0.025532 -0.027847\n",
       "2020-08-04  0.077957 -0.003030  0.004367  0.013739\n",
       "2020-08-05  0.052369  0.016260 -0.008696  0.010256"
      ]
     },
     "execution_count": 12,
     "metadata": {},
     "output_type": "execute_result"
    }
   ],
   "source": [
    "Data_daily_r.tail()"
   ]
  },
  {
   "cell_type": "markdown",
   "metadata": {},
   "source": [
    "Annual Return"
   ]
  },
  {
   "cell_type": "code",
   "execution_count": 13,
   "metadata": {},
   "outputs": [],
   "source": [
    "# Data_ann = data.resample(\"Y\").last().pct_change().mul(100).dropna()\n",
    "# Data_ann.mean()"
   ]
  },
  {
   "cell_type": "code",
   "execution_count": 14,
   "metadata": {
    "scrolled": true
   },
   "outputs": [
    {
     "data": {
      "text/plain": [
       "Symbols\n",
       "ICBP.JK    0.175924\n",
       "UNVR.JK    0.163850\n",
       "MYOR.JK    0.275258\n",
       "^JKSE      0.038085\n",
       "dtype: float64"
      ]
     },
     "execution_count": 14,
     "metadata": {},
     "output_type": "execute_result"
    }
   ],
   "source": [
    "Data_ann_r = Data_daily_r.mean() * 250\n",
    "Data_ann_r"
   ]
  },
  {
   "cell_type": "markdown",
   "metadata": {},
   "source": [
    "Month Return"
   ]
  },
  {
   "cell_type": "code",
   "execution_count": 15,
   "metadata": {},
   "outputs": [],
   "source": [
    "# Data_mon = data.resample(\"BM\").last().pct_change().mul(100).dropna()\n",
    "# print(Data_mon.head())\n",
    "# Data_mon_r = Data_mon.mean()\n",
    "# print(Data_mon_r)"
   ]
  },
  {
   "cell_type": "markdown",
   "metadata": {},
   "source": [
    "### Task 4 : Menghitung $\\beta_{i}$"
   ]
  },
  {
   "cell_type": "markdown",
   "metadata": {},
   "source": [
    "##### Rumus Beta"
   ]
  },
  {
   "cell_type": "markdown",
   "metadata": {},
   "source": [
    "$$\\beta_{i} =\\frac{\\sigma_{im}} {\\sigma^2_{m}}$$"
   ]
  },
  {
   "cell_type": "markdown",
   "metadata": {},
   "source": [
    "$\\sigma_{im}$ = Covarian(return sekuritas i, return market)\n",
    "\n",
    "$\\sigma^2_{m}$ = Variansi (Return Market)"
   ]
  },
  {
   "cell_type": "markdown",
   "metadata": {},
   "source": [
    " "
   ]
  },
  {
   "cell_type": "markdown",
   "metadata": {},
   "source": [
    "beta berdasar return harian"
   ]
  },
  {
   "cell_type": "code",
   "execution_count": 16,
   "metadata": {},
   "outputs": [],
   "source": [
    "# cov = Data_daily_r.cov()*252\n",
    "# cov.index.name = None\n",
    "# cov_with_market = cov.iloc[1,2]\n",
    "# market_var = Data_daily_r[\"^JKSE\"].var()*252\n",
    "# beta = cov_with_market / market_var\n",
    "# beta"
   ]
  },
  {
   "cell_type": "code",
   "execution_count": 17,
   "metadata": {
    "scrolled": true
   },
   "outputs": [],
   "source": [
    "beta_ = []\n",
    "a = []\n",
    "for i in range(len(data.columns)):\n",
    "    b = Data_daily_r.iloc[:,i]\n",
    "    beta_.append((b.cov(Data_daily_r[\"^JKSE\"]))/Data_daily_r[\"^JKSE\"].var())"
   ]
  },
  {
   "cell_type": "code",
   "execution_count": 18,
   "metadata": {},
   "outputs": [
    {
     "data": {
      "text/plain": [
       "[0.9510421566701981, 1.0899761808728847, 0.667844738336208, 1.0000000000000022]"
      ]
     },
     "execution_count": 18,
     "metadata": {},
     "output_type": "execute_result"
    }
   ],
   "source": [
    "beta_"
   ]
  },
  {
   "cell_type": "markdown",
   "metadata": {},
   "source": [
    " "
   ]
  },
  {
   "cell_type": "markdown",
   "metadata": {},
   "source": [
    "beta berdasar return bulanan"
   ]
  },
  {
   "cell_type": "code",
   "execution_count": 19,
   "metadata": {},
   "outputs": [],
   "source": [
    "# cov = Data_mon.cov()\n",
    "# cov.index.name = None\n",
    "# cov_with_market = cov.iloc[0,1]\n",
    "# market_var = Data_mon[\"^JKSE\"].var()\n",
    "# beta_m = cov_with_market / market_var\n",
    "# beta_m"
   ]
  },
  {
   "cell_type": "markdown",
   "metadata": {},
   "source": [
    " "
   ]
  },
  {
   "cell_type": "markdown",
   "metadata": {},
   "source": [
    "Beta berdasar return tahunan"
   ]
  },
  {
   "cell_type": "code",
   "execution_count": 20,
   "metadata": {},
   "outputs": [],
   "source": [
    "# cov = Data_ann.cov()\n",
    "# cov.index.name = None\n",
    "# cov_with_market = cov.iloc[0,1]\n",
    "# market_var = Data_ann[\"^JKSE\"].var()\n",
    "# cov_with_market / market_var"
   ]
  },
  {
   "cell_type": "markdown",
   "metadata": {},
   "source": [
    "### Task 5 : Menghitung $Rf$"
   ]
  },
  {
   "cell_type": "code",
   "execution_count": 21,
   "metadata": {},
   "outputs": [],
   "source": [
    "rf = 0.04"
   ]
  },
  {
   "cell_type": "markdown",
   "metadata": {},
   "source": [
    "### Task 6 : Menghitung $E(Ri)$"
   ]
  },
  {
   "cell_type": "code",
   "execution_count": 22,
   "metadata": {},
   "outputs": [],
   "source": [
    "# ERi = (rf + beta*(Data_ann_r[\"^JKSE\"]-rf))\n",
    "# ERi\n",
    "# Data_ann_r[\"^JKSE\"]-rf"
   ]
  },
  {
   "cell_type": "code",
   "execution_count": 23,
   "metadata": {},
   "outputs": [
    {
     "data": {
      "text/html": [
       "<div>\n",
       "<style scoped>\n",
       "    .dataframe tbody tr th:only-of-type {\n",
       "        vertical-align: middle;\n",
       "    }\n",
       "\n",
       "    .dataframe tbody tr th {\n",
       "        vertical-align: top;\n",
       "    }\n",
       "\n",
       "    .dataframe thead th {\n",
       "        text-align: right;\n",
       "    }\n",
       "</style>\n",
       "<table border=\"1\" class=\"dataframe\">\n",
       "  <thead>\n",
       "    <tr style=\"text-align: right;\">\n",
       "      <th></th>\n",
       "      <th>Emiten</th>\n",
       "      <th>Beta</th>\n",
       "      <th>Re</th>\n",
       "      <th>Ri</th>\n",
       "    </tr>\n",
       "  </thead>\n",
       "  <tbody>\n",
       "    <tr>\n",
       "      <th>0</th>\n",
       "      <td>ICBP.JK</td>\n",
       "      <td>0.951042</td>\n",
       "      <td>0.038179</td>\n",
       "      <td>0.175924</td>\n",
       "    </tr>\n",
       "    <tr>\n",
       "      <th>1</th>\n",
       "      <td>UNVR.JK</td>\n",
       "      <td>1.089976</td>\n",
       "      <td>0.037913</td>\n",
       "      <td>0.163850</td>\n",
       "    </tr>\n",
       "    <tr>\n",
       "      <th>2</th>\n",
       "      <td>MYOR.JK</td>\n",
       "      <td>0.667845</td>\n",
       "      <td>0.038721</td>\n",
       "      <td>0.275258</td>\n",
       "    </tr>\n",
       "  </tbody>\n",
       "</table>\n",
       "</div>"
      ],
      "text/plain": [
       "    Emiten      Beta        Re        Ri\n",
       "0  ICBP.JK  0.951042  0.038179  0.175924\n",
       "1  UNVR.JK  1.089976  0.037913  0.163850\n",
       "2  MYOR.JK  0.667845  0.038721  0.275258"
      ]
     },
     "execution_count": 23,
     "metadata": {},
     "output_type": "execute_result"
    }
   ],
   "source": [
    "ERi = []\n",
    "Emiten = []\n",
    "beta = []\n",
    "Ri = []\n",
    "for i in range(len(beta_)-1):\n",
    "    a = (rf + beta_[i]*(Data_ann_r[\"^JKSE\"]-rf))\n",
    "    ERi.append(a)\n",
    "    Emiten.append(data.columns[i])\n",
    "    beta.append(beta_[i])\n",
    "    Ri.append(Data_ann_r[i])\n",
    "    \n",
    "beta_emiten = pd.DataFrame({\"Emiten\":Emiten,\n",
    "                            \"Beta\":beta,\n",
    "                            \"Re\":ERi,\n",
    "                            \"Ri\":Ri}) \n",
    "beta_emiten"
   ]
  },
  {
   "cell_type": "markdown",
   "metadata": {},
   "source": [
    "### Task 7 : Ploting"
   ]
  },
  {
   "cell_type": "code",
   "execution_count": 27,
   "metadata": {},
   "outputs": [
    {
     "data": {
      "text/plain": [
       "[]"
      ]
     },
     "execution_count": 27,
     "metadata": {},
     "output_type": "execute_result"
    },
    {
     "data": {
      "image/png": "[encoded data removed]",
      "text/plain": [
       "<Figure size 864x576 with 1 Axes>"
      ]
     },
     "metadata": {},
     "output_type": "display_data"
    }
   ],
   "source": [
    "plt.figure(figsize = (12,8))\n",
    "plt.scatter(beta_emiten[\"Beta\"],beta_emiten[\"Re\"])\n",
    "for i in beta_emiten.index:\n",
    "    plt.annotate(\"Re \" + Emiten[i], xy = (beta_emiten.loc[i,\"Beta\"]+0.002, beta_emiten.loc[i, \"Re\"]+0.002), size = 15)\n",
    "plt.scatter(beta_emiten[\"Beta\"],beta_emiten[\"Ri\"])\n",
    "for i in beta_emiten.index:\n",
    "    plt.annotate(\"Ri \" +Emiten[i], xy = (beta_emiten.loc[i,\"Beta\"]+0.002, beta_emiten.loc[i, \"Ri\"]+0.002), size = 15)\n",
    "# plt.title(\"ann.Risk(std)\", fontsize = 15)\n",
    "plt.ylabel(\"Re and Ri\", fontsize = 15)\n",
    "plt.xlabel(\"Beta\", fontsize = 15)\n",
    "plt.plot()"
   ]
  },
  {
   "cell_type": "code",
   "execution_count": null,
   "metadata": {},
   "outputs": [],
   "source": []
  }
 ],
 "metadata": {
  "kernelspec": {
   "display_name": "Python 3",
   "language": "python",
   "name": "python3"
  },
  "language_info": {
   "codemirror_mode": {
    "name": "ipython",
    "version": 3
   },
   "file_extension": ".py",
   "mimetype": "text/x-python",
   "name": "python",
   "nbconvert_exporter": "python",
   "pygments_lexer": "ipython3",
   "version": "3.7.6"
  }
 },
 "nbformat": 4,
 "nbformat_minor": 4
}
